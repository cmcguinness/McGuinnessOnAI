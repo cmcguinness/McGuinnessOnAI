{
  "nbformat": 4,
  "nbformat_minor": 0,
  "metadata": {
    "colab": {
      "provenance": []
    },
    "kernelspec": {
      "name": "python3",
      "display_name": "Python 3"
    },
    "language_info": {
      "name": "python"
    }
  },
  "cells": [
    {
      "cell_type": "markdown",
      "source": [
        "# Welcome to the OmniScript Prompt Editor Tool\n",
        "2023 05 23\n",
        "\n",
        "&nbsp;  \n",
        "\n",
        "This tool is designed to make it easier for you to work with and refine your ChatGPT prompts.\n",
        "\n",
        "This notebook is not designed to be run from beginning to end in its entirety (although you can certainly do that, especially when you first start it up).\n",
        "\n",
        "&nbsp;  \n",
        "\n",
        "---\n",
        "\n",
        "&nbsp;  "
      ],
      "metadata": {
        "id": "BQY3Tmqst82-"
      }
    },
    {
      "cell_type": "markdown",
      "source": [
        "## Imports / Setup\n",
        "The next block is used to bring in (and in the case of openai, install) the libraries we need to run the tool.  Each time you spin up (\"connect\") to a colab engine, you'll need to do this."
      ],
      "metadata": {
        "id": "N0Xy91cO0Wh3"
      }
    },
    {
      "cell_type": "code",
      "source": [
        "# Make sure we have openai\n",
        "!pip install openai\n",
        "\n",
        "# The libraries we need:\n",
        "from jinja2 import Template\n",
        "import json\n",
        "import openai\n",
        "import textwrap"
      ],
      "metadata": {
        "id": "kw3Xt5me0D1r"
      },
      "execution_count": null,
      "outputs": []
    },
    {
      "cell_type": "markdown",
      "source": [
        "## Inputs\n",
        "There are three inputs we need to perform the test:\n",
        "\n",
        "1. Our OpenAI API Key\n",
        "1. The Data JSON from our OmniScript at the point we're ready to call ChatGPT\n",
        "1. The \"System Prompt\" which defines what we want ChatGPT to do for us\n",
        "1. The template we use to convert the data into the \"User Prompt\"\n",
        "\n",
        "The next four blocks set those up.  It is expected that you'll play with the last two blocks (the system prompt and the user template) over and over again, which is why they are last."
      ],
      "metadata": {
        "id": "cLuxLi3T1mnK"
      }
    },
    {
      "cell_type": "code",
      "source": [
        "#\n",
        "#   To do the testing of our prompts, we will need an OpenAI API Key.\n",
        "#   These are kind of valuable, so you don't want to let them leak out.\n",
        "#   On the other hand, constantly setting them is a pain as well.\n",
        "#   \n",
        "#   So, I offer two choices (but there are many, many more) for you.\n",
        "#   \n",
        "#   Choice #1: Ask the user for the key each time this block is run\n",
        "\n",
        "OPENAI_API_KEY = input('Please enter your OpenAI API Key: ')\n",
        "\n",
        "#   Choice #2, just embed the key in the notebook.  You're editing\n",
        "#   you're own local copy, not mine, so its safe to do this.  If\n",
        "#   you want to save your key, go to File→Save a copy in Drive\n",
        "#   (You have to have a Google account for this)\n",
        "\n",
        "# OPENAI_API_KEY = 'XYZZY'\n",
        "\n",
        "#   Choose whichever you prefer!"
      ],
      "metadata": {
        "id": "KJj-NCTqx3T_"
      },
      "execution_count": null,
      "outputs": []
    },
    {
      "cell_type": "code",
      "execution_count": null,
      "metadata": {
        "id": "8oTmfP2Ztu-o"
      },
      "outputs": [],
      "source": [
        "#\n",
        "#   Paste your Data JSON here between the \"\"\"s\n",
        "#\n",
        "\n",
        "data_json = \"\"\"\n",
        "{\"timeStamp\":\"2023-05-22T19:23:12.668Z\",\"userProfile\":\"System Administrator\",\"userTimeZoneName\":\"America/Los_Angeles\",\"userTimeZone\":\"-420\",\"userCurrencyCode\":\"USD\",\"userName\":\"charles-ost@mcguinness.us\",\"userId\":\"005Dp000001WbTWIA0\",\"Step1\":{\"selWhite\":\"1\",\"selBkack\":\"0\",\"selRed\":\"1\",\"selBlue\":\"1\",\"selGreen\":\"1\",\"selCyan\":\"1\",\"selMagenta\":\"0\",\"selYellow\":\"1\"}}\n",
        "\"\"\""
      ]
    },
    {
      "cell_type": "code",
      "source": [
        "#\n",
        "#   Build / Edit your system prompt here\n",
        "#\n",
        "system_prompt = \"\"\"\n",
        "You are an order management specialist at a widget factory.  \n",
        "There are 8 different types of widgets: \n",
        "\n",
        "* The primary colors: red, blue, and green\n",
        "* The secondary colors: yellow, magenta, and cyan\n",
        "* Two desaturated colors: black, and white.\n",
        "\n",
        "For every cyan widget someone buys, they must also buy an addtional blue and \n",
        "green widget as well.\n",
        "\n",
        "For every yellow widget, they must also buy an additional red and green widget.\n",
        "\n",
        "For every magenta widget, they must also buy an additional red and a blue widget.\n",
        "\n",
        "The widgets in red, blue, green, black, and white have no restrictions on them.\n",
        "\n",
        "Thus, if you buy two secondary colored widgets, you have to buy the \n",
        "corresponding four primary colored widgets to meet the requirements.\n",
        "\n",
        "For example, if you buy yellow and magenta, you will also have to have two\n",
        "reds, a green, and a blue in your order.\n",
        "\n",
        "Your job is to look at an order a customer wants to make and to verify that it \n",
        "follows the rules.\n",
        "\n",
        "Please explain, step by step, how you evaluate the rules.\n",
        "\"\"\""
      ],
      "metadata": {
        "id": "zWgn-VJz2hgj"
      },
      "execution_count": null,
      "outputs": []
    },
    {
      "cell_type": "code",
      "source": [
        "#\n",
        "#   Build / Edit your template here:\n",
        "#\n",
        "template_content = \"\"\"\n",
        "I would like to buy widgets in the following colors and quantities:\n",
        "\n",
        "White: {{ Step1.selWhite }}\n",
        "Black: {{ Step1.selBlack }}\n",
        "Red: {{ Step1.selRed }}\n",
        "Blue: {{ Step1.selBlue }}\n",
        "Green: {{ Step1.selGreen }}\n",
        "Cyan: {{ Step1.selCyan }}\n",
        "Magenta: {{ Step1.selMagenta }}\n",
        "Yellow: {{ Step1.selYellow }}\n",
        "\n",
        "Is that allowed?\n",
        "\"\"\"\n"
      ],
      "metadata": {
        "id": "hS-EeMm9vFjs"
      },
      "execution_count": null,
      "outputs": []
    },
    {
      "cell_type": "markdown",
      "source": [
        "# Excecution\n",
        "There are two blocks that follow:\n",
        "\n",
        "1. A block that creates our prompt from our data and template\n",
        "2. A block that calls ChatGPT with that\n",
        "\n",
        "You can run the first one over and over again until you think the prompt is right and then run the second to actually transmit it to ChatGPT for a live test."
      ],
      "metadata": {
        "id": "XpvVhhSR2Awq"
      }
    },
    {
      "cell_type": "code",
      "source": [
        "template = Template(template_content)\n",
        "user_prompt = template.render(json.loads(data_json))\n",
        "print(user_prompt)"
      ],
      "metadata": {
        "id": "FCa99IrVviQc"
      },
      "execution_count": null,
      "outputs": []
    },
    {
      "cell_type": "code",
      "source": [
        "# Execute this block if you want to send everything to ChatGPT:\n",
        "\n",
        "openai.api_key = OPENAI_API_KEY\n",
        "\n",
        "completion = openai.ChatCompletion.create(\n",
        "    # model=\"gpt-3.5-turbo\",\n",
        "    model=\"gpt-4\",\n",
        "    temperature=0,\n",
        "    messages=[\n",
        "        {\n",
        "            \"role\": \"system\",\n",
        "            \"content\": system_prompt\n",
        "        },\n",
        "        {\n",
        "            \"role\": \"user\",\n",
        "            \"content\": user_prompt\n",
        "        }\n",
        "    ]\n",
        ")\n",
        "\n",
        "# Unfortunately, we need to word-wrap the output to read it.  This\n",
        "# code's kind of ugly and partially stolen from stackoverflow, but it works.\n",
        "lines = (completion.choices[0].message[\"content\"]).split(\"\\n\")\n",
        "lists = (textwrap.TextWrapper(width=90,break_long_words=False).wrap(line) for line in lines)\n",
        "body  = \"\\n\".join(\"\\n\".join(list) for list in lists)\n",
        "print(body)\n"
      ],
      "metadata": {
        "id": "AsrZOzwT-ntp"
      },
      "execution_count": null,
      "outputs": []
    }
  ]
}